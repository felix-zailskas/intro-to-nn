{
 "cells": [
  {
   "cell_type": "markdown",
   "id": "046d07e0",
   "metadata": {},
   "source": [
    "# Assignment Week 2\n",
    "\n",
    "#### Arianna Bisazza and Prajit Dhar \n",
    "#### Introduction to Neural Networks\n",
    "#### BSc Information Science, University of Groningen, September 2021\n"
   ]
  },
  {
   "cell_type": "markdown",
   "id": "d38db377",
   "metadata": {},
   "source": [
    "Please enter your name and student ID below -"
   ]
  },
  {
   "cell_type": "markdown",
   "id": "10221a18",
   "metadata": {},
   "source": [
    "Name - Felix Zailskas\n",
    "\n",
    "Student ID - S3918270"
   ]
  },
  {
   "cell_type": "markdown",
   "id": "bfcedc6b",
   "metadata": {},
   "source": [
    "In this week's Assignment, you will -\n",
    "\n",
    "- Load and analyse a NLP dataset on Spam classification\n",
    "\n",
    "- Create three features of your choice to solve the task\n",
    "\n",
    "- Use these three features in the *LogRegClassifier* from the Lab, and try to improve upon the majority baseline\n",
    "\n",
    "**IMPORTANT: You must complete the Lab Exercise of Week 2 before starting this Assignment**"
   ]
  },
  {
   "cell_type": "code",
   "execution_count": 1,
   "id": "bb37646b",
   "metadata": {},
   "outputs": [
    {
     "data": {
      "text/plain": [
       "'0.11.2'"
      ]
     },
     "execution_count": 1,
     "metadata": {},
     "output_type": "execute_result"
    }
   ],
   "source": [
    "# Import libraries\n",
    "import numpy as np\n",
    "import pandas as pd\n",
    "import matplotlib.pyplot as plt\n",
    "import seaborn as sns\n",
    "sns.__version__"
   ]
  },
  {
   "cell_type": "markdown",
   "id": "802687d4",
   "metadata": {},
   "source": [
    "### LOADING DATA\n",
    "\n",
    "Load the dataset *youtube-comments.csv*.\n",
    "\n",
    "The dataset is available on Nestor > Week2. Download it and place it in the same folder as this notebook.\n",
    "\n",
    "If loaded correctly, you will see a dataset of 2 columns, *COMMENT* and *CLASS*, where\n",
    "\n",
    "*COMMENT* consists of comments from the Youtube videos of 5 musical artists, and\n",
    "\n",
    "*CLASS* denotes if the particular comment is a spam or not.\n",
    "\n",
    "For more information on the dataset, see this [link](https://archive-beta.ics.uci.edu/ml/datasets/YouTube%20Spam%20Collection)."
   ]
  },
  {
   "cell_type": "markdown",
   "id": "be9edabe",
   "metadata": {},
   "source": [
    "### Task 1: Load the dataset\n",
    "\n",
    "Also provide basic statistics on the dataset, such as the number of rows and columns and whether it is a *balanced* dataset or not."
   ]
  },
  {
   "cell_type": "code",
   "execution_count": 2,
   "id": "4fe54321",
   "metadata": {},
   "outputs": [
    {
     "name": "stdout",
     "output_type": "stream",
     "text": [
      "#Spam:  841 , #No Spam:  919  Proportion:  0.4778409090909091\n"
     ]
    }
   ],
   "source": [
    "# Load dataset from .csv using pandas dataframe\n",
    "df = pd.read_csv(\"youtube-comments.csv\", sep=\",\")\n",
    "# Visualize\n",
    "df\n",
    "# Check proportion of spam to non spam comments\n",
    "amt_spam = df[\"CLASS\"].sum()\n",
    "amt_no_spam = len(df) - amt_spam\n",
    "print(\"#Spam: \", amt_spam,\", #No Spam: \", amt_no_spam,\" Proportion: \", amt_spam / len(df))"
   ]
  },
  {
   "cell_type": "markdown",
   "id": "8b4de76e",
   "metadata": {},
   "source": [
    "### Task 2: Create 3 Features\n",
    "\n",
    "Based on the dataset and on what you already know about spam comments, create 3 features from these comments.\n",
    "\n",
    "Example features are: length of the comment (in characters), length of the comments (in words), presence of the word \"Hey\". \n",
    "These features are implemented in the code below, and are **not** acceptable choices for the assignment.\n",
    "\n",
    "In general, your features can be boolean (binary), categorical or numerical, but for this exercise we recommend using binary values as that makes it easier to manually set the feature weights.\n",
    "\n",
    "Possible ideas include detecting the presence of an URL in the comment, or counting the number of pronouns in the text (possible binary feature: are there more than N pronouns?), or the number of capitalized words etc.\n",
    "\n",
    "Tip: Rather than using a for loop, you can use **str** methods, as seen [here](https://pandas.pydata.org/pandas-docs/stable/user_guide/text.html) and [here](https://pandas.pydata.org/docs/reference/api/pandas.Series.str.html).\n",
    "\n",
    "Should you have difficulties working with Pandas, please reach out to us during the lab sessions."
   ]
  },
  {
   "cell_type": "code",
   "execution_count": 3,
   "id": "0c7c0f00",
   "metadata": {},
   "outputs": [
    {
     "data": {
      "text/html": [
       "<div>\n",
       "<style scoped>\n",
       "    .dataframe tbody tr th:only-of-type {\n",
       "        vertical-align: middle;\n",
       "    }\n",
       "\n",
       "    .dataframe tbody tr th {\n",
       "        vertical-align: top;\n",
       "    }\n",
       "\n",
       "    .dataframe thead th {\n",
       "        text-align: right;\n",
       "    }\n",
       "</style>\n",
       "<table border=\"1\" class=\"dataframe\">\n",
       "  <thead>\n",
       "    <tr style=\"text-align: right;\">\n",
       "      <th></th>\n",
       "      <th>COMMENT</th>\n",
       "      <th>CLASS</th>\n",
       "      <th>LEN</th>\n",
       "      <th>NWORDS</th>\n",
       "      <th>HAS_WORD_HEY</th>\n",
       "    </tr>\n",
       "  </thead>\n",
       "  <tbody>\n",
       "    <tr>\n",
       "      <th>0</th>\n",
       "      <td>Huh, anyway check out this you[tube] channel: ...</td>\n",
       "      <td>1</td>\n",
       "      <td>56</td>\n",
       "      <td>8</td>\n",
       "      <td>False</td>\n",
       "    </tr>\n",
       "    <tr>\n",
       "      <th>1</th>\n",
       "      <td>Hey guys check out my new channel and our firs...</td>\n",
       "      <td>1</td>\n",
       "      <td>166</td>\n",
       "      <td>32</td>\n",
       "      <td>True</td>\n",
       "    </tr>\n",
       "    <tr>\n",
       "      <th>2</th>\n",
       "      <td>just for test I have to say murdev.com</td>\n",
       "      <td>1</td>\n",
       "      <td>38</td>\n",
       "      <td>8</td>\n",
       "      <td>False</td>\n",
       "    </tr>\n",
       "    <tr>\n",
       "      <th>3</th>\n",
       "      <td>me shaking my sexy ass on my channel enjoy ^_^ ﻿</td>\n",
       "      <td>1</td>\n",
       "      <td>48</td>\n",
       "      <td>11</td>\n",
       "      <td>False</td>\n",
       "    </tr>\n",
       "    <tr>\n",
       "      <th>4</th>\n",
       "      <td>watch?v=vtaRGgvGtWQ   Check this out .﻿</td>\n",
       "      <td>1</td>\n",
       "      <td>39</td>\n",
       "      <td>7</td>\n",
       "      <td>False</td>\n",
       "    </tr>\n",
       "    <tr>\n",
       "      <th>...</th>\n",
       "      <td>...</td>\n",
       "      <td>...</td>\n",
       "      <td>...</td>\n",
       "      <td>...</td>\n",
       "      <td>...</td>\n",
       "    </tr>\n",
       "    <tr>\n",
       "      <th>1755</th>\n",
       "      <td>well done shakira</td>\n",
       "      <td>0</td>\n",
       "      <td>17</td>\n",
       "      <td>3</td>\n",
       "      <td>False</td>\n",
       "    </tr>\n",
       "    <tr>\n",
       "      <th>1756</th>\n",
       "      <td>I love this song because we sing it at Camp al...</td>\n",
       "      <td>0</td>\n",
       "      <td>58</td>\n",
       "      <td>13</td>\n",
       "      <td>False</td>\n",
       "    </tr>\n",
       "    <tr>\n",
       "      <th>1757</th>\n",
       "      <td>I love this song for two reasons: 1.it is abou...</td>\n",
       "      <td>0</td>\n",
       "      <td>93</td>\n",
       "      <td>18</td>\n",
       "      <td>False</td>\n",
       "    </tr>\n",
       "    <tr>\n",
       "      <th>1758</th>\n",
       "      <td>Shakira u are so wiredo</td>\n",
       "      <td>0</td>\n",
       "      <td>23</td>\n",
       "      <td>5</td>\n",
       "      <td>False</td>\n",
       "    </tr>\n",
       "    <tr>\n",
       "      <th>1759</th>\n",
       "      <td>Shakira is the best dancer</td>\n",
       "      <td>0</td>\n",
       "      <td>26</td>\n",
       "      <td>5</td>\n",
       "      <td>False</td>\n",
       "    </tr>\n",
       "  </tbody>\n",
       "</table>\n",
       "<p>1760 rows × 5 columns</p>\n",
       "</div>"
      ],
      "text/plain": [
       "                                                COMMENT  CLASS  LEN  NWORDS  \\\n",
       "0     Huh, anyway check out this you[tube] channel: ...      1   56       8   \n",
       "1     Hey guys check out my new channel and our firs...      1  166      32   \n",
       "2                just for test I have to say murdev.com      1   38       8   \n",
       "3      me shaking my sexy ass on my channel enjoy ^_^ ﻿      1   48      11   \n",
       "4               watch?v=vtaRGgvGtWQ   Check this out .﻿      1   39       7   \n",
       "...                                                 ...    ...  ...     ...   \n",
       "1755                                  well done shakira      0   17       3   \n",
       "1756  I love this song because we sing it at Camp al...      0   58      13   \n",
       "1757  I love this song for two reasons: 1.it is abou...      0   93      18   \n",
       "1758                            Shakira u are so wiredo      0   23       5   \n",
       "1759                         Shakira is the best dancer      0   26       5   \n",
       "\n",
       "      HAS_WORD_HEY  \n",
       "0            False  \n",
       "1             True  \n",
       "2            False  \n",
       "3            False  \n",
       "4            False  \n",
       "...            ...  \n",
       "1755         False  \n",
       "1756         False  \n",
       "1757         False  \n",
       "1758         False  \n",
       "1759         False  \n",
       "\n",
       "[1760 rows x 5 columns]"
      ]
     },
     "execution_count": 3,
     "metadata": {},
     "output_type": "execute_result"
    }
   ],
   "source": [
    "# EXAMPLE FEATURES\n",
    "\n",
    "df['LEN']=df.COMMENT.str.len()\n",
    "df['NWORDS']=df.COMMENT.str.count(' ') + 1\n",
    "df['HAS_WORD_HEY']=df.COMMENT.str.contains('Hey')\n",
    "df"
   ]
  },
  {
   "cell_type": "code",
   "execution_count": 4,
   "id": "7ea2751e",
   "metadata": {},
   "outputs": [
    {
     "data": {
      "text/html": [
       "<div>\n",
       "<style scoped>\n",
       "    .dataframe tbody tr th:only-of-type {\n",
       "        vertical-align: middle;\n",
       "    }\n",
       "\n",
       "    .dataframe tbody tr th {\n",
       "        vertical-align: top;\n",
       "    }\n",
       "\n",
       "    .dataframe thead th {\n",
       "        text-align: right;\n",
       "    }\n",
       "</style>\n",
       "<table border=\"1\" class=\"dataframe\">\n",
       "  <thead>\n",
       "    <tr style=\"text-align: right;\">\n",
       "      <th></th>\n",
       "      <th>COMMENT</th>\n",
       "      <th>CLASS</th>\n",
       "      <th>LEN</th>\n",
       "      <th>NWORDS</th>\n",
       "      <th>HAS_WORD_HEY</th>\n",
       "      <th>Link</th>\n",
       "      <th>Promote</th>\n",
       "      <th>Like</th>\n",
       "    </tr>\n",
       "  </thead>\n",
       "  <tbody>\n",
       "    <tr>\n",
       "      <th>0</th>\n",
       "      <td>Huh, anyway check out this you[tube] channel: ...</td>\n",
       "      <td>1</td>\n",
       "      <td>56</td>\n",
       "      <td>8</td>\n",
       "      <td>False</td>\n",
       "      <td>False</td>\n",
       "      <td>True</td>\n",
       "      <td>False</td>\n",
       "    </tr>\n",
       "    <tr>\n",
       "      <th>1</th>\n",
       "      <td>Hey guys check out my new channel and our firs...</td>\n",
       "      <td>1</td>\n",
       "      <td>166</td>\n",
       "      <td>32</td>\n",
       "      <td>True</td>\n",
       "      <td>False</td>\n",
       "      <td>True</td>\n",
       "      <td>True</td>\n",
       "    </tr>\n",
       "    <tr>\n",
       "      <th>2</th>\n",
       "      <td>just for test I have to say murdev.com</td>\n",
       "      <td>1</td>\n",
       "      <td>38</td>\n",
       "      <td>8</td>\n",
       "      <td>False</td>\n",
       "      <td>False</td>\n",
       "      <td>False</td>\n",
       "      <td>False</td>\n",
       "    </tr>\n",
       "    <tr>\n",
       "      <th>3</th>\n",
       "      <td>me shaking my sexy ass on my channel enjoy ^_^ ﻿</td>\n",
       "      <td>1</td>\n",
       "      <td>48</td>\n",
       "      <td>11</td>\n",
       "      <td>False</td>\n",
       "      <td>False</td>\n",
       "      <td>True</td>\n",
       "      <td>False</td>\n",
       "    </tr>\n",
       "    <tr>\n",
       "      <th>4</th>\n",
       "      <td>watch?v=vtaRGgvGtWQ   Check this out .﻿</td>\n",
       "      <td>1</td>\n",
       "      <td>39</td>\n",
       "      <td>7</td>\n",
       "      <td>False</td>\n",
       "      <td>True</td>\n",
       "      <td>False</td>\n",
       "      <td>False</td>\n",
       "    </tr>\n",
       "    <tr>\n",
       "      <th>...</th>\n",
       "      <td>...</td>\n",
       "      <td>...</td>\n",
       "      <td>...</td>\n",
       "      <td>...</td>\n",
       "      <td>...</td>\n",
       "      <td>...</td>\n",
       "      <td>...</td>\n",
       "      <td>...</td>\n",
       "    </tr>\n",
       "    <tr>\n",
       "      <th>1755</th>\n",
       "      <td>well done shakira</td>\n",
       "      <td>0</td>\n",
       "      <td>17</td>\n",
       "      <td>3</td>\n",
       "      <td>False</td>\n",
       "      <td>False</td>\n",
       "      <td>False</td>\n",
       "      <td>False</td>\n",
       "    </tr>\n",
       "    <tr>\n",
       "      <th>1756</th>\n",
       "      <td>I love this song because we sing it at Camp al...</td>\n",
       "      <td>0</td>\n",
       "      <td>58</td>\n",
       "      <td>13</td>\n",
       "      <td>False</td>\n",
       "      <td>False</td>\n",
       "      <td>False</td>\n",
       "      <td>False</td>\n",
       "    </tr>\n",
       "    <tr>\n",
       "      <th>1757</th>\n",
       "      <td>I love this song for two reasons: 1.it is abou...</td>\n",
       "      <td>0</td>\n",
       "      <td>93</td>\n",
       "      <td>18</td>\n",
       "      <td>False</td>\n",
       "      <td>False</td>\n",
       "      <td>False</td>\n",
       "      <td>False</td>\n",
       "    </tr>\n",
       "    <tr>\n",
       "      <th>1758</th>\n",
       "      <td>Shakira u are so wiredo</td>\n",
       "      <td>0</td>\n",
       "      <td>23</td>\n",
       "      <td>5</td>\n",
       "      <td>False</td>\n",
       "      <td>False</td>\n",
       "      <td>False</td>\n",
       "      <td>False</td>\n",
       "    </tr>\n",
       "    <tr>\n",
       "      <th>1759</th>\n",
       "      <td>Shakira is the best dancer</td>\n",
       "      <td>0</td>\n",
       "      <td>26</td>\n",
       "      <td>5</td>\n",
       "      <td>False</td>\n",
       "      <td>False</td>\n",
       "      <td>False</td>\n",
       "      <td>False</td>\n",
       "    </tr>\n",
       "  </tbody>\n",
       "</table>\n",
       "<p>1760 rows × 8 columns</p>\n",
       "</div>"
      ],
      "text/plain": [
       "                                                COMMENT  CLASS  LEN  NWORDS  \\\n",
       "0     Huh, anyway check out this you[tube] channel: ...      1   56       8   \n",
       "1     Hey guys check out my new channel and our firs...      1  166      32   \n",
       "2                just for test I have to say murdev.com      1   38       8   \n",
       "3      me shaking my sexy ass on my channel enjoy ^_^ ﻿      1   48      11   \n",
       "4               watch?v=vtaRGgvGtWQ   Check this out .﻿      1   39       7   \n",
       "...                                                 ...    ...  ...     ...   \n",
       "1755                                  well done shakira      0   17       3   \n",
       "1756  I love this song because we sing it at Camp al...      0   58      13   \n",
       "1757  I love this song for two reasons: 1.it is abou...      0   93      18   \n",
       "1758                            Shakira u are so wiredo      0   23       5   \n",
       "1759                         Shakira is the best dancer      0   26       5   \n",
       "\n",
       "      HAS_WORD_HEY   Link  Promote   Like  \n",
       "0            False  False     True  False  \n",
       "1             True  False     True   True  \n",
       "2            False  False    False  False  \n",
       "3            False  False     True  False  \n",
       "4            False   True    False  False  \n",
       "...            ...    ...      ...    ...  \n",
       "1755         False  False    False  False  \n",
       "1756         False  False    False  False  \n",
       "1757         False  False    False  False  \n",
       "1758         False  False    False  False  \n",
       "1759         False  False    False  False  \n",
       "\n",
       "[1760 rows x 8 columns]"
      ]
     },
     "execution_count": 4,
     "metadata": {},
     "output_type": "execute_result"
    }
   ],
   "source": [
    "# IMPLEMENT YOUR FEATURES HERE:\n",
    "df[\"Link\"]=df.COMMENT.str.contains('http://|https://|watch\\?v=', regex=True)\n",
    "df[\"Promote\"]=df.COMMENT.str.contains('.*?check.*?out|.*?my.*?channel',regex=True)\n",
    "df[\"Like\"]=df.COMMENT.str.contains('subscribe|like|comment', regex=True)\n",
    "df"
   ]
  },
  {
   "cell_type": "markdown",
   "id": "b88d782d",
   "metadata": {},
   "source": [
    "### Task 3: Justify your choice of features\n",
    "\n",
    "\n",
    "Why did you choose these features for this task? Explain below.\n",
    "There are no right or wrong answers here."
   ]
  },
  {
   "cell_type": "markdown",
   "id": "bc412387",
   "metadata": {},
   "source": [
    "The features I used are the following:\n",
    "1. The precence of a link in the comment.<br>\n",
    "Links are usually an indication for a spam message and are not allowed to be shared on many platforms. To realize this I am scanning the strings for the following substrings: \"http://\", \"https://\" and \"watch?v=\"\n",
    "2. Promotion of a channel.<br>\n",
    "The promotion of a different channel is usually considered spam. To check for this I investigate the strings for the combination of strings \"my channel\" and \"check out\".\n",
    "3. Asking for likes.<br>\n",
    "Asking for likes, comments or subscriptions is generally considered spam. I check the strings for occureces of \"like\" \"comment\" and \"subscribe\" as those are the verbs asking for a like etc."
   ]
  },
  {
   "cell_type": "markdown",
   "id": "f2c3eb42",
   "metadata": {},
   "source": [
    "### LogRegClassifier definition\n",
    "\n",
    "The LogRegClassifier and the sigmoid function from the lab are declared below."
   ]
  },
  {
   "cell_type": "code",
   "execution_count": 5,
   "id": "ac212aa8",
   "metadata": {},
   "outputs": [],
   "source": [
    "def sigmoid(z):\n",
    "    return 1.0 / (1 + np.exp(-z))\n",
    "\n",
    "class LogRegClassifier:\n",
    "    \n",
    "    def __init__(self, n):\n",
    "        self.weights = np.zeros(n)\n",
    "        self.bias = 0.0\n",
    "\n",
    "        \n",
    "    def set_weights(self, vals):\n",
    "        self.weights = vals\n",
    "    \n",
    "    #The new setter function for setting the bias value\n",
    "    def set_bias(self, val):\n",
    "        self.bias = val\n",
    "        \n",
    "\n",
    "    def print_parameters(self):\n",
    "        print(\"weights:\", self.weights)\n",
    "        print(\"bias: \", self.bias)\n",
    "\n",
    "    # Function predict takes the argument:\n",
    "    # - 'x': vector of features representing a data sample (e.g. single apartment),\n",
    "    def predict_prob(self, x):\n",
    "\n",
    "        assert len(x)==self.weights.size\n",
    "\n",
    "        z = 0\n",
    "    \n",
    "        # Add multiplication of each feature with its weight\n",
    "        for weight, feature in zip(self.weights, x):\n",
    "            z += weight * feature\n",
    "        \n",
    "        # Add bias\n",
    "        z += self.bias\n",
    "        \n",
    "        # Compute sigmoid\n",
    "        prob = sigmoid(z)\n",
    "        return prob\n",
    "\n",
    "    def train(self):\n",
    "        print(\"not implemented yet!\")"
   ]
  },
  {
   "cell_type": "markdown",
   "id": "9b4d2c52",
   "metadata": {},
   "source": [
    "### Task 4: Create your LogRegClassifier\n",
    "\n",
    "Note with our code we are only able to do prediction, no training yet, so we'll have to set our feature weights manually.\n",
    "\n",
    "Initialize a LogRegClassifier object with three features.  \n",
    "Then, set its feature weights and bias term manually. (There are no right or wrong values for these. Just try out some numbers according to your intuition, or if you have no intuition, pick uniform values and zero bias.)"
   ]
  },
  {
   "cell_type": "code",
   "execution_count": 6,
   "id": "b5e6f10a",
   "metadata": {},
   "outputs": [
    {
     "name": "stdout",
     "output_type": "stream",
     "text": [
      "weights: [0.5 0.4 0.3]\n",
      "bias:  -0.15\n"
     ]
    }
   ],
   "source": [
    "# Creating the classifier with proper size\n",
    "lg_classifier = LogRegClassifier(3)\n",
    "# Setting weights\n",
    "# I am assuming that all three features make a comment more likely to be spam.\n",
    "weights = np.array([0.5, 0.4, 0.3])\n",
    "lg_classifier.set_weights(weights)\n",
    "# Setting bias\n",
    "# Since there are less spam comments than non spam comments I will set the bias to be negative\n",
    "bias = -0.15\n",
    "lg_classifier.set_bias(bias)\n",
    "# Inspect new weights and bias\n",
    "lg_classifier.print_parameters()"
   ]
  },
  {
   "cell_type": "markdown",
   "id": "b47676ae",
   "metadata": {},
   "source": [
    "### Select a section of the dataset\n",
    "\n",
    "We extract here a subset of the first 200 rows (observations) to be used as our test for spam classification."
   ]
  },
  {
   "cell_type": "code",
   "execution_count": 7,
   "id": "baf57b52",
   "metadata": {},
   "outputs": [],
   "source": [
    "df_test = df.head(200).copy()"
   ]
  },
  {
   "cell_type": "markdown",
   "id": "1d5af9d8",
   "metadata": {},
   "source": [
    "### Task 5: Feature extraction and analysis\n",
    "\n",
    "Starting from the test dataframe, extract the features you would like to use for the classification task."
   ]
  },
  {
   "cell_type": "code",
   "execution_count": 8,
   "id": "0bcc6f39",
   "metadata": {},
   "outputs": [],
   "source": [
    "# Defining the features\n",
    "features = [\"Link\", \"Promote\", \"Like\"]"
   ]
  },
  {
   "cell_type": "markdown",
   "id": "3c054d39",
   "metadata": {},
   "source": [
    "Finally, perform data analysis on this subset. Do you see any interesting patterns? \n",
    "\n",
    "You could use Pandas functions such as *describe()*, *value_counts()*, etc for the same."
   ]
  },
  {
   "cell_type": "code",
   "execution_count": 9,
   "id": "7c1778d8",
   "metadata": {},
   "outputs": [
    {
     "name": "stdout",
     "output_type": "stream",
     "text": [
      "Amounts:\n",
      "Link: 48\n",
      "Promote: 38\n",
      "Like: 39\n",
      "Link AND Promote: 2\n",
      "Like AND Promote: 10\n",
      "Link AND Like: 3\n",
      "Link AND Promote AND Link: 0\n",
      "Link OR Promote OR Link: 110\n",
      "Amount of Spam comments: 125\n"
     ]
    }
   ],
   "source": [
    "# Examining the amount of occurences since we are only using binary features\n",
    "amt_link = df_test[\"Link\"].sum()\n",
    "amt_promo = df_test[\"Promote\"].sum()\n",
    "amt_like = df_test[\"Like\"].sum()\n",
    "amt_link_promo = np.where((df_test[\"Link\"]) & (df_test[\"Promote\"]), 1, 0).sum()\n",
    "amt_like_promo = np.where(df_test[\"Like\"] & df_test[\"Promote\"], 1, 0).sum()\n",
    "amt_link_like = np.where(df_test[\"Link\"] & df_test[\"Like\"], 1, 0).sum()\n",
    "amt_all = np.where(df_test[\"Link\"] & df_test[\"Promote\"] & df_test[\"Like\"], 1, 0).sum()\n",
    "amt_any = np.where(df_test[\"Link\"] | df_test[\"Promote\"] | df_test[\"Like\"], 1, 0).sum()\n",
    "print(\"Amounts:\")\n",
    "print(\"Link:\", amt_link)\n",
    "print(\"Promote:\", amt_promo)\n",
    "print(\"Like:\", amt_like)\n",
    "print(\"Link AND Promote:\", amt_link_promo)\n",
    "print(\"Like AND Promote:\", amt_like_promo)\n",
    "print(\"Link AND Like:\", amt_link_like)\n",
    "print(\"Link AND Promote AND Link:\", amt_all)\n",
    "print(\"Link OR Promote OR Link:\", amt_any)\n",
    "print(\"Amount of Spam comments:\", df_test[\"CLASS\"].sum())"
   ]
  },
  {
   "cell_type": "markdown",
   "id": "2837ce0a",
   "metadata": {},
   "source": [
    "Explain here: \n",
    "\n"
   ]
  },
  {
   "cell_type": "markdown",
   "id": "5823e2a5",
   "metadata": {},
   "source": [
    "By investigating the amount of times the features appear in the comments on their own and with each other we can get a rough idea on whether they could help classify spam comments.<br>\n",
    "It seems that in the test set it is quite unlikely that a comment has more than one of the three features and never all of them. This means that if indeed these are features categorizing spam comments, that there are different types of spam comments. This is in accordance with the assumption I made while choosing the three features.<br>\n",
    "We can also see that all three features appear roughly the same amount of times in the test data set. In case that they are useful features they are probably similarly likely to identify a spam comment.<br>\n",
    "Finally we can see that the total amount of the comments with at least one of the features is similar to the total amount of spam comments. Assuming that the comments with the features are spam comments than the simple identification of one of the features should lead to a classification as a spam comment.<br>\n",
    "In the following section we will see whether these assumptions can be confirmed or not.<br><br>\n",
    "Note that we can also see here that the amount of spam comments in the test set is higher than non spam comments. This is different in the full data set and therefore the bias might need to be changed for the test set."
   ]
  },
  {
   "cell_type": "markdown",
   "id": "2c53f08f",
   "metadata": {},
   "source": [
    "### Task 6: Run the LogRegClassifier classifier \n",
    "\n",
    "For each item in the test set, predict if a comment was a spam or not.\n",
    "\n",
    "Also report on the accuracy of the model. Is it better than the majority baseline?"
   ]
  },
  {
   "cell_type": "code",
   "execution_count": 10,
   "id": "3da99fa8",
   "metadata": {},
   "outputs": [],
   "source": [
    "# Creating the majority choice comparison\n",
    "# For this I will use functions from the first Tutorial\n",
    "def mostFreqClass(df_test, col):\n",
    "    return df_test[col].mode()[0]\n",
    "\n",
    "def mostFreqPred(df_test, col):\n",
    "    return np.full((len(df_test), 1), mostFreqClass(df_test, col))"
   ]
  },
  {
   "cell_type": "code",
   "execution_count": 11,
   "id": "d9ac413b",
   "metadata": {},
   "outputs": [
    {
     "data": {
      "text/html": [
       "<div>\n",
       "<style scoped>\n",
       "    .dataframe tbody tr th:only-of-type {\n",
       "        vertical-align: middle;\n",
       "    }\n",
       "\n",
       "    .dataframe tbody tr th {\n",
       "        vertical-align: top;\n",
       "    }\n",
       "\n",
       "    .dataframe thead th {\n",
       "        text-align: right;\n",
       "    }\n",
       "</style>\n",
       "<table border=\"1\" class=\"dataframe\">\n",
       "  <thead>\n",
       "    <tr style=\"text-align: right;\">\n",
       "      <th></th>\n",
       "      <th>COMMENT</th>\n",
       "      <th>CLASS</th>\n",
       "      <th>LEN</th>\n",
       "      <th>NWORDS</th>\n",
       "      <th>HAS_WORD_HEY</th>\n",
       "      <th>Link</th>\n",
       "      <th>Promote</th>\n",
       "      <th>Like</th>\n",
       "      <th>mostFreqPred</th>\n",
       "    </tr>\n",
       "  </thead>\n",
       "  <tbody>\n",
       "    <tr>\n",
       "      <th>0</th>\n",
       "      <td>Huh, anyway check out this you[tube] channel: ...</td>\n",
       "      <td>1</td>\n",
       "      <td>56</td>\n",
       "      <td>8</td>\n",
       "      <td>False</td>\n",
       "      <td>False</td>\n",
       "      <td>True</td>\n",
       "      <td>False</td>\n",
       "      <td>1</td>\n",
       "    </tr>\n",
       "    <tr>\n",
       "      <th>1</th>\n",
       "      <td>Hey guys check out my new channel and our firs...</td>\n",
       "      <td>1</td>\n",
       "      <td>166</td>\n",
       "      <td>32</td>\n",
       "      <td>True</td>\n",
       "      <td>False</td>\n",
       "      <td>True</td>\n",
       "      <td>True</td>\n",
       "      <td>1</td>\n",
       "    </tr>\n",
       "    <tr>\n",
       "      <th>2</th>\n",
       "      <td>just for test I have to say murdev.com</td>\n",
       "      <td>1</td>\n",
       "      <td>38</td>\n",
       "      <td>8</td>\n",
       "      <td>False</td>\n",
       "      <td>False</td>\n",
       "      <td>False</td>\n",
       "      <td>False</td>\n",
       "      <td>1</td>\n",
       "    </tr>\n",
       "    <tr>\n",
       "      <th>3</th>\n",
       "      <td>me shaking my sexy ass on my channel enjoy ^_^ ﻿</td>\n",
       "      <td>1</td>\n",
       "      <td>48</td>\n",
       "      <td>11</td>\n",
       "      <td>False</td>\n",
       "      <td>False</td>\n",
       "      <td>True</td>\n",
       "      <td>False</td>\n",
       "      <td>1</td>\n",
       "    </tr>\n",
       "    <tr>\n",
       "      <th>4</th>\n",
       "      <td>watch?v=vtaRGgvGtWQ   Check this out .﻿</td>\n",
       "      <td>1</td>\n",
       "      <td>39</td>\n",
       "      <td>7</td>\n",
       "      <td>False</td>\n",
       "      <td>True</td>\n",
       "      <td>False</td>\n",
       "      <td>False</td>\n",
       "      <td>1</td>\n",
       "    </tr>\n",
       "    <tr>\n",
       "      <th>...</th>\n",
       "      <td>...</td>\n",
       "      <td>...</td>\n",
       "      <td>...</td>\n",
       "      <td>...</td>\n",
       "      <td>...</td>\n",
       "      <td>...</td>\n",
       "      <td>...</td>\n",
       "      <td>...</td>\n",
       "      <td>...</td>\n",
       "    </tr>\n",
       "    <tr>\n",
       "      <th>195</th>\n",
       "      <td>What is he saying?!?!?!?!?!?!?!?$? ﻿</td>\n",
       "      <td>0</td>\n",
       "      <td>36</td>\n",
       "      <td>5</td>\n",
       "      <td>False</td>\n",
       "      <td>False</td>\n",
       "      <td>False</td>\n",
       "      <td>False</td>\n",
       "      <td>1</td>\n",
       "    </tr>\n",
       "    <tr>\n",
       "      <th>196</th>\n",
       "      <td>this has so many views﻿</td>\n",
       "      <td>0</td>\n",
       "      <td>23</td>\n",
       "      <td>5</td>\n",
       "      <td>False</td>\n",
       "      <td>False</td>\n",
       "      <td>False</td>\n",
       "      <td>False</td>\n",
       "      <td>1</td>\n",
       "    </tr>\n",
       "    <tr>\n",
       "      <th>197</th>\n",
       "      <td>OMG over 2 billion views!﻿</td>\n",
       "      <td>0</td>\n",
       "      <td>26</td>\n",
       "      <td>5</td>\n",
       "      <td>False</td>\n",
       "      <td>False</td>\n",
       "      <td>False</td>\n",
       "      <td>False</td>\n",
       "      <td>1</td>\n",
       "    </tr>\n",
       "    <tr>\n",
       "      <th>198</th>\n",
       "      <td>Subscribe to me plz plz plz plz plz plZ ﻿</td>\n",
       "      <td>1</td>\n",
       "      <td>41</td>\n",
       "      <td>10</td>\n",
       "      <td>False</td>\n",
       "      <td>False</td>\n",
       "      <td>False</td>\n",
       "      <td>False</td>\n",
       "      <td>1</td>\n",
       "    </tr>\n",
       "    <tr>\n",
       "      <th>199</th>\n",
       "      <td>http://www.twitch.tv/tareko100 Follow him on t...</td>\n",
       "      <td>1</td>\n",
       "      <td>197</td>\n",
       "      <td>35</td>\n",
       "      <td>False</td>\n",
       "      <td>True</td>\n",
       "      <td>False</td>\n",
       "      <td>False</td>\n",
       "      <td>1</td>\n",
       "    </tr>\n",
       "  </tbody>\n",
       "</table>\n",
       "<p>200 rows × 9 columns</p>\n",
       "</div>"
      ],
      "text/plain": [
       "                                               COMMENT  CLASS  LEN  NWORDS  \\\n",
       "0    Huh, anyway check out this you[tube] channel: ...      1   56       8   \n",
       "1    Hey guys check out my new channel and our firs...      1  166      32   \n",
       "2               just for test I have to say murdev.com      1   38       8   \n",
       "3     me shaking my sexy ass on my channel enjoy ^_^ ﻿      1   48      11   \n",
       "4              watch?v=vtaRGgvGtWQ   Check this out .﻿      1   39       7   \n",
       "..                                                 ...    ...  ...     ...   \n",
       "195               What is he saying?!?!?!?!?!?!?!?$? ﻿      0   36       5   \n",
       "196                            this has so many views﻿      0   23       5   \n",
       "197                         OMG over 2 billion views!﻿      0   26       5   \n",
       "198          Subscribe to me plz plz plz plz plz plZ ﻿      1   41      10   \n",
       "199  http://www.twitch.tv/tareko100 Follow him on t...      1  197      35   \n",
       "\n",
       "     HAS_WORD_HEY   Link  Promote   Like  mostFreqPred  \n",
       "0           False  False     True  False             1  \n",
       "1            True  False     True   True             1  \n",
       "2           False  False    False  False             1  \n",
       "3           False  False     True  False             1  \n",
       "4           False   True    False  False             1  \n",
       "..            ...    ...      ...    ...           ...  \n",
       "195         False  False    False  False             1  \n",
       "196         False  False    False  False             1  \n",
       "197         False  False    False  False             1  \n",
       "198         False  False    False  False             1  \n",
       "199         False   True    False  False             1  \n",
       "\n",
       "[200 rows x 9 columns]"
      ]
     },
     "execution_count": 11,
     "metadata": {},
     "output_type": "execute_result"
    }
   ],
   "source": [
    "df_test[\"mostFreqPred\"] = mostFreqPred(df_test, \"CLASS\")\n",
    "df_test"
   ]
  },
  {
   "cell_type": "code",
   "execution_count": 12,
   "id": "9e1ac75a",
   "metadata": {},
   "outputs": [
    {
     "data": {
      "text/html": [
       "<div>\n",
       "<style scoped>\n",
       "    .dataframe tbody tr th:only-of-type {\n",
       "        vertical-align: middle;\n",
       "    }\n",
       "\n",
       "    .dataframe tbody tr th {\n",
       "        vertical-align: top;\n",
       "    }\n",
       "\n",
       "    .dataframe thead th {\n",
       "        text-align: right;\n",
       "    }\n",
       "</style>\n",
       "<table border=\"1\" class=\"dataframe\">\n",
       "  <thead>\n",
       "    <tr style=\"text-align: right;\">\n",
       "      <th></th>\n",
       "      <th>COMMENT</th>\n",
       "      <th>CLASS</th>\n",
       "      <th>LEN</th>\n",
       "      <th>NWORDS</th>\n",
       "      <th>HAS_WORD_HEY</th>\n",
       "      <th>Link</th>\n",
       "      <th>Promote</th>\n",
       "      <th>Like</th>\n",
       "      <th>mostFreqPred</th>\n",
       "      <th>prob</th>\n",
       "    </tr>\n",
       "  </thead>\n",
       "  <tbody>\n",
       "    <tr>\n",
       "      <th>0</th>\n",
       "      <td>Huh, anyway check out this you[tube] channel: ...</td>\n",
       "      <td>1</td>\n",
       "      <td>56</td>\n",
       "      <td>8</td>\n",
       "      <td>False</td>\n",
       "      <td>False</td>\n",
       "      <td>True</td>\n",
       "      <td>False</td>\n",
       "      <td>1</td>\n",
       "      <td>0.562177</td>\n",
       "    </tr>\n",
       "    <tr>\n",
       "      <th>1</th>\n",
       "      <td>Hey guys check out my new channel and our firs...</td>\n",
       "      <td>1</td>\n",
       "      <td>166</td>\n",
       "      <td>32</td>\n",
       "      <td>True</td>\n",
       "      <td>False</td>\n",
       "      <td>True</td>\n",
       "      <td>True</td>\n",
       "      <td>1</td>\n",
       "      <td>0.634136</td>\n",
       "    </tr>\n",
       "    <tr>\n",
       "      <th>2</th>\n",
       "      <td>just for test I have to say murdev.com</td>\n",
       "      <td>1</td>\n",
       "      <td>38</td>\n",
       "      <td>8</td>\n",
       "      <td>False</td>\n",
       "      <td>False</td>\n",
       "      <td>False</td>\n",
       "      <td>False</td>\n",
       "      <td>1</td>\n",
       "      <td>0.462570</td>\n",
       "    </tr>\n",
       "    <tr>\n",
       "      <th>3</th>\n",
       "      <td>me shaking my sexy ass on my channel enjoy ^_^ ﻿</td>\n",
       "      <td>1</td>\n",
       "      <td>48</td>\n",
       "      <td>11</td>\n",
       "      <td>False</td>\n",
       "      <td>False</td>\n",
       "      <td>True</td>\n",
       "      <td>False</td>\n",
       "      <td>1</td>\n",
       "      <td>0.562177</td>\n",
       "    </tr>\n",
       "    <tr>\n",
       "      <th>4</th>\n",
       "      <td>watch?v=vtaRGgvGtWQ   Check this out .﻿</td>\n",
       "      <td>1</td>\n",
       "      <td>39</td>\n",
       "      <td>7</td>\n",
       "      <td>False</td>\n",
       "      <td>True</td>\n",
       "      <td>False</td>\n",
       "      <td>False</td>\n",
       "      <td>1</td>\n",
       "      <td>0.586618</td>\n",
       "    </tr>\n",
       "    <tr>\n",
       "      <th>...</th>\n",
       "      <td>...</td>\n",
       "      <td>...</td>\n",
       "      <td>...</td>\n",
       "      <td>...</td>\n",
       "      <td>...</td>\n",
       "      <td>...</td>\n",
       "      <td>...</td>\n",
       "      <td>...</td>\n",
       "      <td>...</td>\n",
       "      <td>...</td>\n",
       "    </tr>\n",
       "    <tr>\n",
       "      <th>195</th>\n",
       "      <td>What is he saying?!?!?!?!?!?!?!?$? ﻿</td>\n",
       "      <td>0</td>\n",
       "      <td>36</td>\n",
       "      <td>5</td>\n",
       "      <td>False</td>\n",
       "      <td>False</td>\n",
       "      <td>False</td>\n",
       "      <td>False</td>\n",
       "      <td>1</td>\n",
       "      <td>0.462570</td>\n",
       "    </tr>\n",
       "    <tr>\n",
       "      <th>196</th>\n",
       "      <td>this has so many views﻿</td>\n",
       "      <td>0</td>\n",
       "      <td>23</td>\n",
       "      <td>5</td>\n",
       "      <td>False</td>\n",
       "      <td>False</td>\n",
       "      <td>False</td>\n",
       "      <td>False</td>\n",
       "      <td>1</td>\n",
       "      <td>0.462570</td>\n",
       "    </tr>\n",
       "    <tr>\n",
       "      <th>197</th>\n",
       "      <td>OMG over 2 billion views!﻿</td>\n",
       "      <td>0</td>\n",
       "      <td>26</td>\n",
       "      <td>5</td>\n",
       "      <td>False</td>\n",
       "      <td>False</td>\n",
       "      <td>False</td>\n",
       "      <td>False</td>\n",
       "      <td>1</td>\n",
       "      <td>0.462570</td>\n",
       "    </tr>\n",
       "    <tr>\n",
       "      <th>198</th>\n",
       "      <td>Subscribe to me plz plz plz plz plz plZ ﻿</td>\n",
       "      <td>1</td>\n",
       "      <td>41</td>\n",
       "      <td>10</td>\n",
       "      <td>False</td>\n",
       "      <td>False</td>\n",
       "      <td>False</td>\n",
       "      <td>False</td>\n",
       "      <td>1</td>\n",
       "      <td>0.462570</td>\n",
       "    </tr>\n",
       "    <tr>\n",
       "      <th>199</th>\n",
       "      <td>http://www.twitch.tv/tareko100 Follow him on t...</td>\n",
       "      <td>1</td>\n",
       "      <td>197</td>\n",
       "      <td>35</td>\n",
       "      <td>False</td>\n",
       "      <td>True</td>\n",
       "      <td>False</td>\n",
       "      <td>False</td>\n",
       "      <td>1</td>\n",
       "      <td>0.586618</td>\n",
       "    </tr>\n",
       "  </tbody>\n",
       "</table>\n",
       "<p>200 rows × 10 columns</p>\n",
       "</div>"
      ],
      "text/plain": [
       "                                               COMMENT  CLASS  LEN  NWORDS  \\\n",
       "0    Huh, anyway check out this you[tube] channel: ...      1   56       8   \n",
       "1    Hey guys check out my new channel and our firs...      1  166      32   \n",
       "2               just for test I have to say murdev.com      1   38       8   \n",
       "3     me shaking my sexy ass on my channel enjoy ^_^ ﻿      1   48      11   \n",
       "4              watch?v=vtaRGgvGtWQ   Check this out .﻿      1   39       7   \n",
       "..                                                 ...    ...  ...     ...   \n",
       "195               What is he saying?!?!?!?!?!?!?!?$? ﻿      0   36       5   \n",
       "196                            this has so many views﻿      0   23       5   \n",
       "197                         OMG over 2 billion views!﻿      0   26       5   \n",
       "198          Subscribe to me plz plz plz plz plz plZ ﻿      1   41      10   \n",
       "199  http://www.twitch.tv/tareko100 Follow him on t...      1  197      35   \n",
       "\n",
       "     HAS_WORD_HEY   Link  Promote   Like  mostFreqPred      prob  \n",
       "0           False  False     True  False             1  0.562177  \n",
       "1            True  False     True   True             1  0.634136  \n",
       "2           False  False    False  False             1  0.462570  \n",
       "3           False  False     True  False             1  0.562177  \n",
       "4           False   True    False  False             1  0.586618  \n",
       "..            ...    ...      ...    ...           ...       ...  \n",
       "195         False  False    False  False             1  0.462570  \n",
       "196         False  False    False  False             1  0.462570  \n",
       "197         False  False    False  False             1  0.462570  \n",
       "198         False  False    False  False             1  0.462570  \n",
       "199         False   True    False  False             1  0.586618  \n",
       "\n",
       "[200 rows x 10 columns]"
      ]
     },
     "execution_count": 12,
     "metadata": {},
     "output_type": "execute_result"
    }
   ],
   "source": [
    "# Finding probability for all rows\n",
    "df_test['prob']=df_test[features].apply(lg_classifier.predict_prob,axis=1)\n",
    "df_test"
   ]
  },
  {
   "cell_type": "code",
   "execution_count": 13,
   "id": "1df8190a",
   "metadata": {
    "scrolled": true
   },
   "outputs": [
    {
     "data": {
      "text/html": [
       "<div>\n",
       "<style scoped>\n",
       "    .dataframe tbody tr th:only-of-type {\n",
       "        vertical-align: middle;\n",
       "    }\n",
       "\n",
       "    .dataframe tbody tr th {\n",
       "        vertical-align: top;\n",
       "    }\n",
       "\n",
       "    .dataframe thead th {\n",
       "        text-align: right;\n",
       "    }\n",
       "</style>\n",
       "<table border=\"1\" class=\"dataframe\">\n",
       "  <thead>\n",
       "    <tr style=\"text-align: right;\">\n",
       "      <th></th>\n",
       "      <th>COMMENT</th>\n",
       "      <th>CLASS</th>\n",
       "      <th>LEN</th>\n",
       "      <th>NWORDS</th>\n",
       "      <th>HAS_WORD_HEY</th>\n",
       "      <th>Link</th>\n",
       "      <th>Promote</th>\n",
       "      <th>Like</th>\n",
       "      <th>mostFreqPred</th>\n",
       "      <th>prob</th>\n",
       "      <th>pred_class</th>\n",
       "    </tr>\n",
       "  </thead>\n",
       "  <tbody>\n",
       "    <tr>\n",
       "      <th>0</th>\n",
       "      <td>Huh, anyway check out this you[tube] channel: ...</td>\n",
       "      <td>1</td>\n",
       "      <td>56</td>\n",
       "      <td>8</td>\n",
       "      <td>False</td>\n",
       "      <td>False</td>\n",
       "      <td>True</td>\n",
       "      <td>False</td>\n",
       "      <td>1</td>\n",
       "      <td>0.562177</td>\n",
       "      <td>1</td>\n",
       "    </tr>\n",
       "    <tr>\n",
       "      <th>1</th>\n",
       "      <td>Hey guys check out my new channel and our firs...</td>\n",
       "      <td>1</td>\n",
       "      <td>166</td>\n",
       "      <td>32</td>\n",
       "      <td>True</td>\n",
       "      <td>False</td>\n",
       "      <td>True</td>\n",
       "      <td>True</td>\n",
       "      <td>1</td>\n",
       "      <td>0.634136</td>\n",
       "      <td>1</td>\n",
       "    </tr>\n",
       "    <tr>\n",
       "      <th>2</th>\n",
       "      <td>just for test I have to say murdev.com</td>\n",
       "      <td>1</td>\n",
       "      <td>38</td>\n",
       "      <td>8</td>\n",
       "      <td>False</td>\n",
       "      <td>False</td>\n",
       "      <td>False</td>\n",
       "      <td>False</td>\n",
       "      <td>1</td>\n",
       "      <td>0.462570</td>\n",
       "      <td>0</td>\n",
       "    </tr>\n",
       "    <tr>\n",
       "      <th>3</th>\n",
       "      <td>me shaking my sexy ass on my channel enjoy ^_^ ﻿</td>\n",
       "      <td>1</td>\n",
       "      <td>48</td>\n",
       "      <td>11</td>\n",
       "      <td>False</td>\n",
       "      <td>False</td>\n",
       "      <td>True</td>\n",
       "      <td>False</td>\n",
       "      <td>1</td>\n",
       "      <td>0.562177</td>\n",
       "      <td>1</td>\n",
       "    </tr>\n",
       "    <tr>\n",
       "      <th>4</th>\n",
       "      <td>watch?v=vtaRGgvGtWQ   Check this out .﻿</td>\n",
       "      <td>1</td>\n",
       "      <td>39</td>\n",
       "      <td>7</td>\n",
       "      <td>False</td>\n",
       "      <td>True</td>\n",
       "      <td>False</td>\n",
       "      <td>False</td>\n",
       "      <td>1</td>\n",
       "      <td>0.586618</td>\n",
       "      <td>1</td>\n",
       "    </tr>\n",
       "    <tr>\n",
       "      <th>...</th>\n",
       "      <td>...</td>\n",
       "      <td>...</td>\n",
       "      <td>...</td>\n",
       "      <td>...</td>\n",
       "      <td>...</td>\n",
       "      <td>...</td>\n",
       "      <td>...</td>\n",
       "      <td>...</td>\n",
       "      <td>...</td>\n",
       "      <td>...</td>\n",
       "      <td>...</td>\n",
       "    </tr>\n",
       "    <tr>\n",
       "      <th>195</th>\n",
       "      <td>What is he saying?!?!?!?!?!?!?!?$? ﻿</td>\n",
       "      <td>0</td>\n",
       "      <td>36</td>\n",
       "      <td>5</td>\n",
       "      <td>False</td>\n",
       "      <td>False</td>\n",
       "      <td>False</td>\n",
       "      <td>False</td>\n",
       "      <td>1</td>\n",
       "      <td>0.462570</td>\n",
       "      <td>0</td>\n",
       "    </tr>\n",
       "    <tr>\n",
       "      <th>196</th>\n",
       "      <td>this has so many views﻿</td>\n",
       "      <td>0</td>\n",
       "      <td>23</td>\n",
       "      <td>5</td>\n",
       "      <td>False</td>\n",
       "      <td>False</td>\n",
       "      <td>False</td>\n",
       "      <td>False</td>\n",
       "      <td>1</td>\n",
       "      <td>0.462570</td>\n",
       "      <td>0</td>\n",
       "    </tr>\n",
       "    <tr>\n",
       "      <th>197</th>\n",
       "      <td>OMG over 2 billion views!﻿</td>\n",
       "      <td>0</td>\n",
       "      <td>26</td>\n",
       "      <td>5</td>\n",
       "      <td>False</td>\n",
       "      <td>False</td>\n",
       "      <td>False</td>\n",
       "      <td>False</td>\n",
       "      <td>1</td>\n",
       "      <td>0.462570</td>\n",
       "      <td>0</td>\n",
       "    </tr>\n",
       "    <tr>\n",
       "      <th>198</th>\n",
       "      <td>Subscribe to me plz plz plz plz plz plZ ﻿</td>\n",
       "      <td>1</td>\n",
       "      <td>41</td>\n",
       "      <td>10</td>\n",
       "      <td>False</td>\n",
       "      <td>False</td>\n",
       "      <td>False</td>\n",
       "      <td>False</td>\n",
       "      <td>1</td>\n",
       "      <td>0.462570</td>\n",
       "      <td>0</td>\n",
       "    </tr>\n",
       "    <tr>\n",
       "      <th>199</th>\n",
       "      <td>http://www.twitch.tv/tareko100 Follow him on t...</td>\n",
       "      <td>1</td>\n",
       "      <td>197</td>\n",
       "      <td>35</td>\n",
       "      <td>False</td>\n",
       "      <td>True</td>\n",
       "      <td>False</td>\n",
       "      <td>False</td>\n",
       "      <td>1</td>\n",
       "      <td>0.586618</td>\n",
       "      <td>1</td>\n",
       "    </tr>\n",
       "  </tbody>\n",
       "</table>\n",
       "<p>200 rows × 11 columns</p>\n",
       "</div>"
      ],
      "text/plain": [
       "                                               COMMENT  CLASS  LEN  NWORDS  \\\n",
       "0    Huh, anyway check out this you[tube] channel: ...      1   56       8   \n",
       "1    Hey guys check out my new channel and our firs...      1  166      32   \n",
       "2               just for test I have to say murdev.com      1   38       8   \n",
       "3     me shaking my sexy ass on my channel enjoy ^_^ ﻿      1   48      11   \n",
       "4              watch?v=vtaRGgvGtWQ   Check this out .﻿      1   39       7   \n",
       "..                                                 ...    ...  ...     ...   \n",
       "195               What is he saying?!?!?!?!?!?!?!?$? ﻿      0   36       5   \n",
       "196                            this has so many views﻿      0   23       5   \n",
       "197                         OMG over 2 billion views!﻿      0   26       5   \n",
       "198          Subscribe to me plz plz plz plz plz plZ ﻿      1   41      10   \n",
       "199  http://www.twitch.tv/tareko100 Follow him on t...      1  197      35   \n",
       "\n",
       "     HAS_WORD_HEY   Link  Promote   Like  mostFreqPred      prob  pred_class  \n",
       "0           False  False     True  False             1  0.562177           1  \n",
       "1            True  False     True   True             1  0.634136           1  \n",
       "2           False  False    False  False             1  0.462570           0  \n",
       "3           False  False     True  False             1  0.562177           1  \n",
       "4           False   True    False  False             1  0.586618           1  \n",
       "..            ...    ...      ...    ...           ...       ...         ...  \n",
       "195         False  False    False  False             1  0.462570           0  \n",
       "196         False  False    False  False             1  0.462570           0  \n",
       "197         False  False    False  False             1  0.462570           0  \n",
       "198         False  False    False  False             1  0.462570           0  \n",
       "199         False   True    False  False             1  0.586618           1  \n",
       "\n",
       "[200 rows x 11 columns]"
      ]
     },
     "execution_count": 13,
     "metadata": {},
     "output_type": "execute_result"
    }
   ],
   "source": [
    "# adding the class with a threshold of 0.5\n",
    "df_test[\"pred_class\"] = np.where(df_test[\"prob\"] >= 0.5, 1, 0)\n",
    "df_test"
   ]
  },
  {
   "cell_type": "code",
   "execution_count": 14,
   "id": "7cf3f231",
   "metadata": {},
   "outputs": [
    {
     "name": "stdout",
     "output_type": "stream",
     "text": [
      "weights: [0.5 0.4 0.3]\n",
      "bias:  -0.15\n",
      "Accuracy Classifier: 0.835\n",
      "Accuracy Most Frequent Prediction: 0.625\n"
     ]
    }
   ],
   "source": [
    "# checking the accuracy and comparing to the most frequent prediction\n",
    "correct_lg = (df_test[\"pred_class\"] == df_test[\"CLASS\"])\n",
    "nb_correct_lg = correct_lg.sum()\n",
    "accuracy_lg = nb_correct_lg/correct_lg.count()\n",
    "\n",
    "correct_mfp = (df_test[\"mostFreqPred\"] == df_test[\"CLASS\"])\n",
    "nb_correct_mfp = correct_mfp.sum()\n",
    "accuracy_mfp = nb_correct_mfp/correct_mfp.count()\n",
    "\n",
    "lg_classifier.print_parameters()\n",
    "print(\"Accuracy Classifier:\", accuracy_lg)\n",
    "print(\"Accuracy Most Frequent Prediction:\", accuracy_mfp)\n"
   ]
  },
  {
   "cell_type": "markdown",
   "id": "dc7337d0",
   "metadata": {},
   "source": [
    "We can see that our classifier already has a higher accuracy than the trivial most frequent prediction classifier."
   ]
  },
  {
   "cell_type": "markdown",
   "id": "f8099523",
   "metadata": {},
   "source": [
    "### Task 7: Tuning the classifier's weights\n",
    "\n",
    "Try out various feature weights and bias values. Are you able to increase your accuracy?"
   ]
  },
  {
   "cell_type": "markdown",
   "id": "ceb4bb46",
   "metadata": {},
   "source": [
    "First I will try to change the bias to a positive value as the test set has more spam comments than non spam comments."
   ]
  },
  {
   "cell_type": "code",
   "execution_count": 15,
   "id": "93ee8fc3",
   "metadata": {},
   "outputs": [],
   "source": [
    "# make bias positive\n",
    "lg_classifier.set_bias(0.1)"
   ]
  },
  {
   "cell_type": "code",
   "execution_count": 16,
   "id": "9e6c70e2",
   "metadata": {},
   "outputs": [
    {
     "name": "stdout",
     "output_type": "stream",
     "text": [
      "weights: [0.5 0.4 0.3]\n",
      "bias:  0.1\n",
      "Accuracy Classifier: 0.625\n",
      "Accuracy Most Frequent Prediction: 0.625\n"
     ]
    }
   ],
   "source": [
    "# re-evaluate\n",
    "df_test['prob']=df_test[features].apply(lg_classifier.predict_prob,axis=1)\n",
    "df_test[\"pred_class\"] = np.where(df_test[\"prob\"] >= 0.5, 1, 0)\n",
    "\n",
    "correct_lg = (df_test[\"pred_class\"] == df_test[\"CLASS\"])\n",
    "nb_correct_lg = correct_lg.sum()\n",
    "accuracy_lg = nb_correct_lg/correct_lg.count()\n",
    "\n",
    "lg_classifier.print_parameters()\n",
    "print(\"Accuracy Classifier:\", accuracy_lg)\n",
    "print(\"Accuracy Most Frequent Prediction:\", accuracy_mfp)"
   ]
  },
  {
   "cell_type": "markdown",
   "id": "3ee73ee8",
   "metadata": {},
   "source": [
    "This actually decreased the accuracy so I will first try a larger bias value and than an even smaller bias than the original one."
   ]
  },
  {
   "cell_type": "code",
   "execution_count": 17,
   "id": "d8d04c18",
   "metadata": {},
   "outputs": [],
   "source": [
    "# make bias even greater\n",
    "lg_classifier.set_bias(0.2)"
   ]
  },
  {
   "cell_type": "code",
   "execution_count": 18,
   "id": "7e55728a",
   "metadata": {},
   "outputs": [
    {
     "name": "stdout",
     "output_type": "stream",
     "text": [
      "weights: [0.5 0.4 0.3]\n",
      "bias:  0.2\n",
      "Accuracy Classifier: 0.625\n",
      "Accuracy Most Frequent Prediction: 0.625\n"
     ]
    }
   ],
   "source": [
    "# re-evaluate\n",
    "df_test['prob']=df_test[features].apply(lg_classifier.predict_prob,axis=1)\n",
    "df_test[\"pred_class\"] = np.where(df_test[\"prob\"] >= 0.5, 1, 0)\n",
    "\n",
    "correct_lg = (df_test[\"pred_class\"] == df_test[\"CLASS\"])\n",
    "nb_correct_lg = correct_lg.sum()\n",
    "accuracy_lg = nb_correct_lg/correct_lg.count()\n",
    "\n",
    "lg_classifier.print_parameters()\n",
    "print(\"Accuracy Classifier:\", accuracy_lg)\n",
    "print(\"Accuracy Most Frequent Prediction:\", accuracy_mfp)"
   ]
  },
  {
   "cell_type": "code",
   "execution_count": 19,
   "id": "53aa17aa",
   "metadata": {},
   "outputs": [],
   "source": [
    "# make bias even smaller\n",
    "lg_classifier.set_bias(-0.2)"
   ]
  },
  {
   "cell_type": "code",
   "execution_count": 20,
   "id": "ce731dc7",
   "metadata": {},
   "outputs": [
    {
     "name": "stdout",
     "output_type": "stream",
     "text": [
      "weights: [0.5 0.4 0.3]\n",
      "bias:  -0.2\n",
      "Accuracy Classifier: 0.835\n",
      "Accuracy Most Frequent Prediction: 0.625\n"
     ]
    }
   ],
   "source": [
    "# re-evaluate\n",
    "df_test['prob']=df_test[features].apply(lg_classifier.predict_prob,axis=1)\n",
    "df_test[\"pred_class\"] = np.where(df_test[\"prob\"] >= 0.5, 1, 0)\n",
    "\n",
    "correct_lg = (df_test[\"pred_class\"] == df_test[\"CLASS\"])\n",
    "nb_correct_lg = correct_lg.sum()\n",
    "accuracy_lg = nb_correct_lg/correct_lg.count()\n",
    "\n",
    "lg_classifier.print_parameters()\n",
    "print(\"Accuracy Classifier:\", accuracy_lg)\n",
    "print(\"Accuracy Most Frequent Prediction:\", accuracy_mfp)"
   ]
  },
  {
   "cell_type": "code",
   "execution_count": 21,
   "id": "84e61086",
   "metadata": {},
   "outputs": [],
   "source": [
    "# make bias even smaller\n",
    "lg_classifier.set_bias(-0.4)"
   ]
  },
  {
   "cell_type": "code",
   "execution_count": 22,
   "id": "4f8f4ead",
   "metadata": {},
   "outputs": [
    {
     "name": "stdout",
     "output_type": "stream",
     "text": [
      "weights: [0.5 0.4 0.3]\n",
      "bias:  -0.4\n",
      "Accuracy Classifier: 0.785\n",
      "Accuracy Most Frequent Prediction: 0.625\n"
     ]
    }
   ],
   "source": [
    "# re-evaluate\n",
    "df_test['prob']=df_test[features].apply(lg_classifier.predict_prob,axis=1)\n",
    "df_test[\"pred_class\"] = np.where(df_test[\"prob\"] >= 0.5, 1, 0)\n",
    "\n",
    "correct_lg = (df_test[\"pred_class\"] == df_test[\"CLASS\"])\n",
    "nb_correct_lg = correct_lg.sum()\n",
    "accuracy_lg = nb_correct_lg/correct_lg.count()\n",
    "\n",
    "lg_classifier.print_parameters()\n",
    "print(\"Accuracy Classifier:\", accuracy_lg)\n",
    "print(\"Accuracy Most Frequent Prediction:\", accuracy_mfp)"
   ]
  },
  {
   "cell_type": "code",
   "execution_count": 23,
   "id": "264ebf76",
   "metadata": {},
   "outputs": [],
   "source": [
    "# make bias even smaller\n",
    "lg_classifier.set_bias(-0.5)"
   ]
  },
  {
   "cell_type": "code",
   "execution_count": 24,
   "id": "5e84a2e2",
   "metadata": {
    "scrolled": true
   },
   "outputs": [
    {
     "name": "stdout",
     "output_type": "stream",
     "text": [
      "weights: [0.5 0.4 0.3]\n",
      "bias:  -0.5\n",
      "Accuracy Classifier: 0.655\n",
      "Accuracy Most Frequent Prediction: 0.625\n"
     ]
    }
   ],
   "source": [
    "# re-evaluate\n",
    "df_test['prob']=df_test[features].apply(lg_classifier.predict_prob,axis=1)\n",
    "df_test[\"pred_class\"] = np.where(df_test[\"prob\"] >= 0.5, 1, 0)\n",
    "\n",
    "correct_lg = (df_test[\"pred_class\"] == df_test[\"CLASS\"])\n",
    "nb_correct_lg = correct_lg.sum()\n",
    "accuracy_lg = nb_correct_lg/correct_lg.count()\n",
    "\n",
    "lg_classifier.print_parameters()\n",
    "print(\"Accuracy Classifier:\", accuracy_lg)\n",
    "print(\"Accuracy Most Frequent Prediction:\", accuracy_mfp)"
   ]
  },
  {
   "cell_type": "markdown",
   "id": "897aa336",
   "metadata": {},
   "source": [
    "It seems that a value of -0.2 to -0.4 is a good choice for the bias term."
   ]
  },
  {
   "cell_type": "code",
   "execution_count": 25,
   "id": "e2fa70b2",
   "metadata": {},
   "outputs": [],
   "source": [
    "# set bias\n",
    "lg_classifier.set_bias(-0.3)"
   ]
  },
  {
   "cell_type": "markdown",
   "id": "4b75c733",
   "metadata": {},
   "source": [
    "Let us now play with the weights."
   ]
  },
  {
   "cell_type": "code",
   "execution_count": 26,
   "id": "5a78e8ff",
   "metadata": {},
   "outputs": [],
   "source": [
    "# set weights\n",
    "lg_classifier.set_weights(np.array([0.5, 0.5, 0.5]))"
   ]
  },
  {
   "cell_type": "code",
   "execution_count": 27,
   "id": "5c83afc1",
   "metadata": {},
   "outputs": [
    {
     "name": "stdout",
     "output_type": "stream",
     "text": [
      "weights: [0.5 0.5 0.5]\n",
      "bias:  -0.3\n",
      "Accuracy Classifier: 0.835\n",
      "Accuracy Most Frequent Prediction: 0.625\n"
     ]
    }
   ],
   "source": [
    "# re-evaluate\n",
    "df_test['prob']=df_test[features].apply(lg_classifier.predict_prob,axis=1)\n",
    "df_test[\"pred_class\"] = np.where(df_test[\"prob\"] >= 0.5, 1, 0)\n",
    "\n",
    "correct_lg = (df_test[\"pred_class\"] == df_test[\"CLASS\"])\n",
    "nb_correct_lg = correct_lg.sum()\n",
    "accuracy_lg = nb_correct_lg/correct_lg.count()\n",
    "\n",
    "lg_classifier.print_parameters()\n",
    "print(\"Accuracy Classifier:\", accuracy_lg)\n",
    "print(\"Accuracy Most Frequent Prediction:\", accuracy_mfp)"
   ]
  },
  {
   "cell_type": "code",
   "execution_count": 28,
   "id": "eff019eb",
   "metadata": {},
   "outputs": [],
   "source": [
    "# set weights\n",
    "lg_classifier.set_weights(np.array([0.2, 0.5, 0.8]))"
   ]
  },
  {
   "cell_type": "code",
   "execution_count": 29,
   "id": "7f146ea9",
   "metadata": {
    "scrolled": true
   },
   "outputs": [
    {
     "name": "stdout",
     "output_type": "stream",
     "text": [
      "weights: [0.2 0.5 0.8]\n",
      "bias:  -0.3\n",
      "Accuracy Classifier: 0.63\n",
      "Accuracy Most Frequent Prediction: 0.625\n"
     ]
    }
   ],
   "source": [
    "# re-evaluate\n",
    "df_test['prob']=df_test[features].apply(lg_classifier.predict_prob,axis=1)\n",
    "df_test[\"pred_class\"] = np.where(df_test[\"prob\"] >= 0.5, 1, 0)\n",
    "\n",
    "correct_lg = (df_test[\"pred_class\"] == df_test[\"CLASS\"])\n",
    "nb_correct_lg = correct_lg.sum()\n",
    "accuracy_lg = nb_correct_lg/correct_lg.count()\n",
    "\n",
    "lg_classifier.print_parameters()\n",
    "print(\"Accuracy Classifier:\", accuracy_lg)\n",
    "print(\"Accuracy Most Frequent Prediction:\", accuracy_mfp)"
   ]
  },
  {
   "cell_type": "code",
   "execution_count": 30,
   "id": "d5c4bec3",
   "metadata": {},
   "outputs": [],
   "source": [
    "# set weights\n",
    "lg_classifier.set_weights(np.array([0.8, 0.3, 0.8]))"
   ]
  },
  {
   "cell_type": "code",
   "execution_count": 31,
   "id": "f7d9f3ff",
   "metadata": {},
   "outputs": [
    {
     "name": "stdout",
     "output_type": "stream",
     "text": [
      "weights: [0.8 0.3 0.8]\n",
      "bias:  -0.3\n",
      "Accuracy Classifier: 0.835\n",
      "Accuracy Most Frequent Prediction: 0.625\n"
     ]
    }
   ],
   "source": [
    "# re-evaluate\n",
    "df_test['prob']=df_test[features].apply(lg_classifier.predict_prob,axis=1)\n",
    "df_test[\"pred_class\"] = np.where(df_test[\"prob\"] >= 0.5, 1, 0)\n",
    "\n",
    "correct_lg = (df_test[\"pred_class\"] == df_test[\"CLASS\"])\n",
    "nb_correct_lg = correct_lg.sum()\n",
    "accuracy_lg = nb_correct_lg/correct_lg.count()\n",
    "\n",
    "lg_classifier.print_parameters()\n",
    "print(\"Accuracy Classifier:\", accuracy_lg)\n",
    "print(\"Accuracy Most Frequent Prediction:\", accuracy_mfp)"
   ]
  },
  {
   "cell_type": "code",
   "execution_count": 32,
   "id": "1db78d34",
   "metadata": {},
   "outputs": [],
   "source": [
    "# set weights\n",
    "lg_classifier.set_weights(np.array([0.8, 0.8, 0.8]))"
   ]
  },
  {
   "cell_type": "code",
   "execution_count": 33,
   "id": "17b8a46d",
   "metadata": {
    "scrolled": true
   },
   "outputs": [
    {
     "name": "stdout",
     "output_type": "stream",
     "text": [
      "weights: [0.8 0.8 0.8]\n",
      "bias:  -0.3\n",
      "Accuracy Classifier: 0.835\n",
      "Accuracy Most Frequent Prediction: 0.625\n"
     ]
    }
   ],
   "source": [
    "# re-evaluate\n",
    "df_test['prob']=df_test[features].apply(lg_classifier.predict_prob,axis=1)\n",
    "df_test[\"pred_class\"] = np.where(df_test[\"prob\"] >= 0.5, 1, 0)\n",
    "\n",
    "correct_lg = (df_test[\"pred_class\"] == df_test[\"CLASS\"])\n",
    "nb_correct_lg = correct_lg.sum()\n",
    "accuracy_lg = nb_correct_lg/correct_lg.count()\n",
    "\n",
    "lg_classifier.print_parameters()\n",
    "print(\"Accuracy Classifier:\", accuracy_lg)\n",
    "print(\"Accuracy Most Frequent Prediction:\", accuracy_mfp)"
   ]
  },
  {
   "cell_type": "code",
   "execution_count": 34,
   "id": "a841afc0",
   "metadata": {},
   "outputs": [],
   "source": [
    "# set weights\n",
    "lg_classifier.set_weights(np.array([-0.8, -0.8, -0.1]))"
   ]
  },
  {
   "cell_type": "code",
   "execution_count": 35,
   "id": "f3bb8c56",
   "metadata": {
    "scrolled": true
   },
   "outputs": [
    {
     "name": "stdout",
     "output_type": "stream",
     "text": [
      "weights: [-0.8 -0.8 -0.1]\n",
      "bias:  -0.3\n",
      "Accuracy Classifier: 0.375\n",
      "Accuracy Most Frequent Prediction: 0.625\n"
     ]
    }
   ],
   "source": [
    "# re-evaluate\n",
    "df_test['prob']=df_test[features].apply(lg_classifier.predict_prob,axis=1)\n",
    "df_test[\"pred_class\"] = np.where(df_test[\"prob\"] >= 0.5, 1, 0)\n",
    "\n",
    "correct_lg = (df_test[\"pred_class\"] == df_test[\"CLASS\"])\n",
    "nb_correct_lg = correct_lg.sum()\n",
    "accuracy_lg = nb_correct_lg/correct_lg.count()\n",
    "\n",
    "lg_classifier.print_parameters()\n",
    "print(\"Accuracy Classifier:\", accuracy_lg)\n",
    "print(\"Accuracy Most Frequent Prediction:\", accuracy_mfp)"
   ]
  },
  {
   "cell_type": "code",
   "execution_count": 36,
   "id": "9dc22352",
   "metadata": {},
   "outputs": [],
   "source": [
    "# set weights\n",
    "lg_classifier.set_weights(np.array([0.2, 0.2, 0.1]))"
   ]
  },
  {
   "cell_type": "code",
   "execution_count": 37,
   "id": "778874bc",
   "metadata": {
    "scrolled": true
   },
   "outputs": [
    {
     "name": "stdout",
     "output_type": "stream",
     "text": [
      "weights: [0.2 0.2 0.1]\n",
      "bias:  -0.3\n",
      "Accuracy Classifier: 0.45\n",
      "Accuracy Most Frequent Prediction: 0.625\n"
     ]
    }
   ],
   "source": [
    "# re-evaluate\n",
    "df_test['prob']=df_test[features].apply(lg_classifier.predict_prob,axis=1)\n",
    "df_test[\"pred_class\"] = np.where(df_test[\"prob\"] >= 0.5, 1, 0)\n",
    "\n",
    "correct_lg = (df_test[\"pred_class\"] == df_test[\"CLASS\"])\n",
    "nb_correct_lg = correct_lg.sum()\n",
    "accuracy_lg = nb_correct_lg/correct_lg.count()\n",
    "\n",
    "lg_classifier.print_parameters()\n",
    "print(\"Accuracy Classifier:\", accuracy_lg)\n",
    "print(\"Accuracy Most Frequent Prediction:\", accuracy_mfp)"
   ]
  },
  {
   "cell_type": "code",
   "execution_count": 38,
   "id": "5f9a7d47",
   "metadata": {},
   "outputs": [],
   "source": [
    "# set weights\n",
    "lg_classifier.set_weights(np.array([0.99, 0.99, 0.99]))"
   ]
  },
  {
   "cell_type": "code",
   "execution_count": 39,
   "id": "67f844dd",
   "metadata": {
    "scrolled": true
   },
   "outputs": [
    {
     "name": "stdout",
     "output_type": "stream",
     "text": [
      "weights: [0.99 0.99 0.99]\n",
      "bias:  -0.3\n",
      "Accuracy Classifier: 0.835\n",
      "Accuracy Most Frequent Prediction: 0.625\n"
     ]
    }
   ],
   "source": [
    "# re-evaluate\n",
    "df_test['prob']=df_test[features].apply(lg_classifier.predict_prob,axis=1)\n",
    "df_test[\"pred_class\"] = np.where(df_test[\"prob\"] >= 0.5, 1, 0)\n",
    "\n",
    "correct_lg = (df_test[\"pred_class\"] == df_test[\"CLASS\"])\n",
    "nb_correct_lg = correct_lg.sum()\n",
    "accuracy_lg = nb_correct_lg/correct_lg.count()\n",
    "\n",
    "lg_classifier.print_parameters()\n",
    "print(\"Accuracy Classifier:\", accuracy_lg)\n",
    "print(\"Accuracy Most Frequent Prediction:\", accuracy_mfp)"
   ]
  },
  {
   "cell_type": "markdown",
   "id": "11f6e955",
   "metadata": {},
   "source": [
    "It seems that there is not a difference in prediction power of the classifier when the weights are all positive and large enough. Negative weights decrease the accuracy greatly."
   ]
  },
  {
   "cell_type": "markdown",
   "id": "2db63408",
   "metadata": {},
   "source": [
    "Explain:"
   ]
  },
  {
   "cell_type": "markdown",
   "id": "bdc9b2e4",
   "metadata": {},
   "source": [
    "I am not able to increase the accuracy of the classifier above 0.835. This value is greater than the most frequent prediction model and therefore I conclude that the classifier is successful at what it should do, classify spam comments.<br>\n",
    "Since the accuracy decreased as the bias was set to be positive I conclude that my initial assumption of a negative bias was correct. To reiterate I assumed that, since the full data set had more non spam comments than spam comments. The hypothesis that a positive bias might work better for the test set because it has more spam comments was not supported by my analysis.<br>\n",
    "It was also observed that fairly large positive weights are good choices for the chosen features. This is in accordance with my assumption. When comments contain the defined substrings it seems to classify them as spam comments fairly well.<br>\n",
    "If I were to further improve this classifier by hand I would probably investigate whether the classifier is more likely to falsly classify a normal comment as spam or to miss a spam comment. This could give further insight on the effectiveness of the defined features. I would also investigate if I can spot any other features in unidentified spam comments and might define a new feature to better identify spam comments that could not be found yet."
   ]
  },
  {
   "cell_type": "code",
   "execution_count": null,
   "id": "92927e4e",
   "metadata": {},
   "outputs": [],
   "source": []
  }
 ],
 "metadata": {
  "kernelspec": {
   "display_name": "Python 3 (ipykernel)",
   "language": "python",
   "name": "python3"
  },
  "language_info": {
   "codemirror_mode": {
    "name": "ipython",
    "version": 3
   },
   "file_extension": ".py",
   "mimetype": "text/x-python",
   "name": "python",
   "nbconvert_exporter": "python",
   "pygments_lexer": "ipython3",
   "version": "3.9.7"
  }
 },
 "nbformat": 4,
 "nbformat_minor": 5
}
